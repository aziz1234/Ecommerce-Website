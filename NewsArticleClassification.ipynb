{
  "nbformat": 4,
  "nbformat_minor": 0,
  "metadata": {
    "colab": {
      "name": "NewsArticleClassification.ipynb",
      "provenance": [],
      "collapsed_sections": [],
      "mount_file_id": "1N3IvA2Zq8aEAwd6wGdIZDemean52ZKkG",
      "authorship_tag": "ABX9TyNYQjMYli8/TQ7ZJcKCXQTX",
      "include_colab_link": true
    },
    "kernelspec": {
      "name": "python3",
      "display_name": "Python 3"
    }
  },
  "cells": [
    {
      "cell_type": "markdown",
      "metadata": {
        "id": "view-in-github",
        "colab_type": "text"
      },
      "source": [
        "<a href=\"https://colab.research.google.com/github/aziz1234/Ecommerce-Website/blob/master/NewsArticleClassification.ipynb\" target=\"_parent\"><img src=\"https://colab.research.google.com/assets/colab-badge.svg\" alt=\"Open In Colab\"/></a>"
      ]
    },
    {
      "cell_type": "code",
      "metadata": {
        "id": "SJH25MqDTj4P",
        "colab_type": "code",
        "outputId": "2a5c3957-e23f-463f-d2b3-fcbbffd7fa96",
        "colab": {
          "base_uri": "https://localhost:8080/",
          "height": 666
        }
      },
      "source": [
        "import pandas as pd\n",
        "\n",
        "news_df = pd.read_csv(\"/content/drive/My Drive/Colab Notebooks/Datasets/uci-news-aggregator.csv\", sep = \",\")\n",
        "news_df.tail()"
      ],
      "execution_count": 0,
      "outputs": [
        {
          "output_type": "execute_result",
          "data": {
            "text/html": [
              "<div>\n",
              "<style scoped>\n",
              "    .dataframe tbody tr th:only-of-type {\n",
              "        vertical-align: middle;\n",
              "    }\n",
              "\n",
              "    .dataframe tbody tr th {\n",
              "        vertical-align: top;\n",
              "    }\n",
              "\n",
              "    .dataframe thead th {\n",
              "        text-align: right;\n",
              "    }\n",
              "</style>\n",
              "<table border=\"1\" class=\"dataframe\">\n",
              "  <thead>\n",
              "    <tr style=\"text-align: right;\">\n",
              "      <th></th>\n",
              "      <th>ID</th>\n",
              "      <th>TITLE</th>\n",
              "      <th>URL</th>\n",
              "      <th>PUBLISHER</th>\n",
              "      <th>CATEGORY</th>\n",
              "      <th>STORY</th>\n",
              "      <th>HOSTNAME</th>\n",
              "      <th>TIMESTAMP</th>\n",
              "    </tr>\n",
              "  </thead>\n",
              "  <tbody>\n",
              "    <tr>\n",
              "      <th>293308</th>\n",
              "      <td>293768</td>\n",
              "      <td>U.S. health care system ranks last among indus...</td>\n",
              "      <td>http://www.houstonchronicle.com/business/medic...</td>\n",
              "      <td>Houston Chronicle</td>\n",
              "      <td>m</td>\n",
              "      <td>dFTSwm9tX0NGuqM5VjjhleJGo1LWM</td>\n",
              "      <td>www.houstonchronicle.com</td>\n",
              "      <td>1.402957e+12</td>\n",
              "    </tr>\n",
              "    <tr>\n",
              "      <th>293309</th>\n",
              "      <td>293769</td>\n",
              "      <td>US health care system ranks dead last</td>\n",
              "      <td>http://www.benefitspro.com/2014/06/16/us-healt...</td>\n",
              "      <td>BenefitsPro</td>\n",
              "      <td>m</td>\n",
              "      <td>dFTSwm9tX0NGuqM5VjjhleJGo1LWM</td>\n",
              "      <td>www.benefitspro.com</td>\n",
              "      <td>1.402957e+12</td>\n",
              "    </tr>\n",
              "    <tr>\n",
              "      <th>293310</th>\n",
              "      <td>293770</td>\n",
              "      <td>US continues its losing streak in health care ...</td>\n",
              "      <td>https://news.yahoo.com/u-s--ranks-last-out-of-...</td>\n",
              "      <td>Yahoo Finance \\(blog\\)</td>\n",
              "      <td>m</td>\n",
              "      <td>dFTSwm9tX0NGuqM5VjjhleJGo1LWM</td>\n",
              "      <td>news.yahoo.com</td>\n",
              "      <td>1.402957e+12</td>\n",
              "    </tr>\n",
              "    <tr>\n",
              "      <th>293311</th>\n",
              "      <td>293771</td>\n",
              "      <td>We're Last! Again! US Health Care Ranks Poorly</td>\n",
              "      <td>http://www.myarklamiss.com/story/d/story/were-...</td>\n",
              "      <td>MyArkLaMiss</td>\n",
              "      <td>m</td>\n",
              "      <td>dFTSwm9tX0NGuqM5VjjhleJGo1LWM</td>\n",
              "      <td>www.myarklamiss.com</td>\n",
              "      <td>1.402957e+12</td>\n",
              "    </tr>\n",
              "    <tr>\n",
              "      <th>293312</th>\n",
              "      <td>293772</td>\n",
              "      <td>This is the most depressing graph in American ...</td>\n",
              "      <td>http://www.vox.com/2014/6/16/5813974/this-is-t...</td>\n",
              "      <td>NaN</td>\n",
              "      <td>NaN</td>\n",
              "      <td>NaN</td>\n",
              "      <td>NaN</td>\n",
              "      <td>NaN</td>\n",
              "    </tr>\n",
              "  </tbody>\n",
              "</table>\n",
              "</div>"
            ],
            "text/plain": [
              "            ID  ...     TIMESTAMP\n",
              "293308  293768  ...  1.402957e+12\n",
              "293309  293769  ...  1.402957e+12\n",
              "293310  293770  ...  1.402957e+12\n",
              "293311  293771  ...  1.402957e+12\n",
              "293312  293772  ...           NaN\n",
              "\n",
              "[5 rows x 8 columns]"
            ]
          },
          "metadata": {
            "tags": []
          },
          "execution_count": 178
        }
      ]
    },
    {
      "cell_type": "code",
      "metadata": {
        "id": "XOfZc5hKU8k5",
        "colab_type": "code",
        "outputId": "52140189-c095-459f-cc8a-2a2973ac5190",
        "colab": {
          "base_uri": "https://localhost:8080/",
          "height": 615
        }
      },
      "source": [
        "import string\n",
        "\n",
        "replace_values = {'b' : 1, 't' : 2, 'e' : 3,'m': 4}                                                                                          \n",
        "news_df = news_df.replace({\"CATEGORY\": replace_values})\n",
        "\n",
        "#news_df['CATEGORY'] = news_df.CATEGORY.map({ 'b': 1, 't': 2, 'e': 3, 'm': 4 })\n",
        "news_df['TITLE'] = news_df.TITLE.map(\n",
        "    lambda x: x.lower().translate(str.maketrans('','', string.punctuation))\n",
        ")\n",
        "\n",
        "news_df = news_df[news_df['CATEGORY'].notna()]\n",
        "news_df.tail()"
      ],
      "execution_count": 0,
      "outputs": [
        {
          "output_type": "execute_result",
          "data": {
            "text/html": [
              "<div>\n",
              "<style scoped>\n",
              "    .dataframe tbody tr th:only-of-type {\n",
              "        vertical-align: middle;\n",
              "    }\n",
              "\n",
              "    .dataframe tbody tr th {\n",
              "        vertical-align: top;\n",
              "    }\n",
              "\n",
              "    .dataframe thead th {\n",
              "        text-align: right;\n",
              "    }\n",
              "</style>\n",
              "<table border=\"1\" class=\"dataframe\">\n",
              "  <thead>\n",
              "    <tr style=\"text-align: right;\">\n",
              "      <th></th>\n",
              "      <th>ID</th>\n",
              "      <th>TITLE</th>\n",
              "      <th>URL</th>\n",
              "      <th>PUBLISHER</th>\n",
              "      <th>CATEGORY</th>\n",
              "      <th>STORY</th>\n",
              "      <th>HOSTNAME</th>\n",
              "      <th>TIMESTAMP</th>\n",
              "    </tr>\n",
              "  </thead>\n",
              "  <tbody>\n",
              "    <tr>\n",
              "      <th>293307</th>\n",
              "      <td>293767</td>\n",
              "      <td>us has worst quality of healthcare among indus...</td>\n",
              "      <td>http://www.latinpost.com/articles/14941/201406...</td>\n",
              "      <td>Latin Post</td>\n",
              "      <td>4.0</td>\n",
              "      <td>dFTSwm9tX0NGuqM5VjjhleJGo1LWM</td>\n",
              "      <td>www.latinpost.com</td>\n",
              "      <td>1.402957e+12</td>\n",
              "    </tr>\n",
              "    <tr>\n",
              "      <th>293308</th>\n",
              "      <td>293768</td>\n",
              "      <td>us health care system ranks last among industr...</td>\n",
              "      <td>http://www.houstonchronicle.com/business/medic...</td>\n",
              "      <td>Houston Chronicle</td>\n",
              "      <td>4.0</td>\n",
              "      <td>dFTSwm9tX0NGuqM5VjjhleJGo1LWM</td>\n",
              "      <td>www.houstonchronicle.com</td>\n",
              "      <td>1.402957e+12</td>\n",
              "    </tr>\n",
              "    <tr>\n",
              "      <th>293309</th>\n",
              "      <td>293769</td>\n",
              "      <td>us health care system ranks dead last</td>\n",
              "      <td>http://www.benefitspro.com/2014/06/16/us-healt...</td>\n",
              "      <td>BenefitsPro</td>\n",
              "      <td>4.0</td>\n",
              "      <td>dFTSwm9tX0NGuqM5VjjhleJGo1LWM</td>\n",
              "      <td>www.benefitspro.com</td>\n",
              "      <td>1.402957e+12</td>\n",
              "    </tr>\n",
              "    <tr>\n",
              "      <th>293310</th>\n",
              "      <td>293770</td>\n",
              "      <td>us continues its losing streak in health care ...</td>\n",
              "      <td>https://news.yahoo.com/u-s--ranks-last-out-of-...</td>\n",
              "      <td>Yahoo Finance \\(blog\\)</td>\n",
              "      <td>4.0</td>\n",
              "      <td>dFTSwm9tX0NGuqM5VjjhleJGo1LWM</td>\n",
              "      <td>news.yahoo.com</td>\n",
              "      <td>1.402957e+12</td>\n",
              "    </tr>\n",
              "    <tr>\n",
              "      <th>293311</th>\n",
              "      <td>293771</td>\n",
              "      <td>were last again us health care ranks poorly</td>\n",
              "      <td>http://www.myarklamiss.com/story/d/story/were-...</td>\n",
              "      <td>MyArkLaMiss</td>\n",
              "      <td>4.0</td>\n",
              "      <td>dFTSwm9tX0NGuqM5VjjhleJGo1LWM</td>\n",
              "      <td>www.myarklamiss.com</td>\n",
              "      <td>1.402957e+12</td>\n",
              "    </tr>\n",
              "  </tbody>\n",
              "</table>\n",
              "</div>"
            ],
            "text/plain": [
              "            ID  ...     TIMESTAMP\n",
              "293307  293767  ...  1.402957e+12\n",
              "293308  293768  ...  1.402957e+12\n",
              "293309  293769  ...  1.402957e+12\n",
              "293310  293770  ...  1.402957e+12\n",
              "293311  293771  ...  1.402957e+12\n",
              "\n",
              "[5 rows x 8 columns]"
            ]
          },
          "metadata": {
            "tags": []
          },
          "execution_count": 179
        }
      ]
    },
    {
      "cell_type": "code",
      "metadata": {
        "id": "cGXa9DPsVKTT",
        "colab_type": "code",
        "outputId": "aa8c6222-5027-4eec-e404-8c9dd8af49b3",
        "colab": {
          "base_uri": "https://localhost:8080/",
          "height": 51
        }
      },
      "source": [
        "from sklearn.model_selection import train_test_split\n",
        "\n",
        "X_train, X_test, y_train, y_test = train_test_split(\n",
        "    news_df['TITLE'], \n",
        "    news_df['CATEGORY'], \n",
        "    random_state = 1\n",
        ")\n",
        "\n",
        "print(\"Training dataset: \", X_train.shape[0])\n",
        "print(\"Test dataset: \", X_test.shape[0])"
      ],
      "execution_count": 0,
      "outputs": [
        {
          "output_type": "stream",
          "text": [
            "Training dataset:  219984\n",
            "Test dataset:  73328\n"
          ],
          "name": "stdout"
        }
      ]
    },
    {
      "cell_type": "code",
      "metadata": {
        "id": "Pfq3A5p5VQWf",
        "colab_type": "code",
        "colab": {}
      },
      "source": [
        "from sklearn.feature_extraction.text import CountVectorizer\n",
        "from sklearn.feature_extraction.text import TfidfVectorizer\n",
        "tfidf = TfidfVectorizer()\n",
        "training_data = tfidf.fit_transform(X_train)\n",
        "testing_data = tfidf.transform(X_test)"
      ],
      "execution_count": 0,
      "outputs": []
    },
    {
      "cell_type": "code",
      "metadata": {
        "id": "DlqXJs-BVV-Q",
        "colab_type": "code",
        "outputId": "34631046-81ec-4669-d7d2-62fafed23080",
        "colab": {
          "base_uri": "https://localhost:8080/",
          "height": 34
        }
      },
      "source": [
        "from sklearn.naive_bayes import MultinomialNB\n",
        "from sklearn.linear_model import SGDClassifier\n",
        "from sklearn.linear_model import LogisticRegression\n",
        "\n",
        "\n",
        "naive_bayes = MultinomialNB()\n",
        "naive_bayes.fit(training_data, y_train)\n",
        "#sgdc =  SGDClassifier()\n",
        "#sgdc.fit(X_train, y_train)"
      ],
      "execution_count": 0,
      "outputs": [
        {
          "output_type": "execute_result",
          "data": {
            "text/plain": [
              "MultinomialNB(alpha=1.0, class_prior=None, fit_prior=True)"
            ]
          },
          "metadata": {
            "tags": []
          },
          "execution_count": 182
        }
      ]
    },
    {
      "cell_type": "code",
      "metadata": {
        "id": "5RFPmamYVaCx",
        "colab_type": "code",
        "outputId": "47873892-34ed-4368-f139-38803456aa26",
        "colab": {
          "base_uri": "https://localhost:8080/",
          "height": 34
        }
      },
      "source": [
        "predictions = naive_bayes.predict(testing_data)\n",
        "#predictions = naive_bayes.predict(\"Harry Potter star Rupert Grint welcomes child lady with girlfriend Georgia Groome\",1)\n",
        "predictions"
      ],
      "execution_count": 0,
      "outputs": [
        {
          "output_type": "execute_result",
          "data": {
            "text/plain": [
              "array([3., 4., 3., ..., 3., 1., 2.])"
            ]
          },
          "metadata": {
            "tags": []
          },
          "execution_count": 183
        }
      ]
    },
    {
      "cell_type": "code",
      "metadata": {
        "id": "Ji3OkmuqVgvf",
        "colab_type": "code",
        "outputId": "d159d9f7-ae44-4f63-bfde-88a459cbf9fc",
        "colab": {
          "base_uri": "https://localhost:8080/",
          "height": 85
        }
      },
      "source": [
        "from sklearn.metrics import accuracy_score, recall_score, precision_score, f1_score, roc_auc_score\n",
        "\n",
        "print(\"Accuracy score: \", accuracy_score(y_test, predictions))\n",
        "print(\"Recall score: \", recall_score(y_test, predictions, average = 'weighted'))\n",
        "print(\"Precision score: \", precision_score(y_test, predictions, average = 'weighted'))\n",
        "print(\"F1 score: \", f1_score(y_test, predictions, average = 'weighted')) \n",
        "                          "
      ],
      "execution_count": 0,
      "outputs": [
        {
          "output_type": "stream",
          "text": [
            "Accuracy score:  0.9279129391228453\n",
            "Recall score:  0.9279129391228453\n",
            "Precision score:  0.9285664084527914\n",
            "F1 score:  0.927563479315182\n"
          ],
          "name": "stdout"
        }
      ]
    },
    {
      "cell_type": "code",
      "metadata": {
        "id": "MYqv0d2IlfVb",
        "colab_type": "code",
        "outputId": "73157419-b5ef-455b-afb6-029644188fd2",
        "colab": {
          "base_uri": "https://localhost:8080/",
          "height": 34
        }
      },
      "source": [
        "\n",
        "def predict(s):\n",
        "  s=[s]\n",
        "  s= tfidf.transform(s)\n",
        "  x=naive_bayes.predict(s)\n",
        "  if x[0]==1:\n",
        "     print(\"Buisness\")\n",
        "  elif x[0]==2:\n",
        "     print(\"science and technology\")\n",
        "  elif x[0]==3:\n",
        "      print(\"Entertainment\")\n",
        "  elif x[0]==4:\n",
        "      print(\"Health\")\n",
        "\n",
        "s = \"Saudi, US companies also eyeing stakes in Reliance's Jio Platforms\"\n",
        "predict(s)"
      ],
      "execution_count": 0,
      "outputs": [
        {
          "output_type": "stream",
          "text": [
            "Buisness\n"
          ],
          "name": "stdout"
        }
      ]
    }
  ]
}